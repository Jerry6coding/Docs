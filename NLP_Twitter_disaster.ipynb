{
  "nbformat": 4,
  "nbformat_minor": 0,
  "metadata": {
    "accelerator": "GPU",
    "colab": {
      "name": "NLP Twitter disaster.ipynb",
      "provenance": [],
      "collapsed_sections": [],
      "machine_shape": "hm",
      "mount_file_id": "1rpC28iQIrzCzepvBxA8NYvlOE34ldBFa",
      "authorship_tag": "ABX9TyMvoMGiPNyAu+ACXfsef07k",
      "include_colab_link": true
    },
    "kernelspec": {
      "display_name": "Python 3",
      "name": "python3"
    },
    "language_info": {
      "name": "python"
    }
  },
  "cells": [
    {
      "cell_type": "markdown",
      "metadata": {
        "id": "view-in-github",
        "colab_type": "text"
      },
      "source": [
        "<a href=\"https://colab.research.google.com/github/Jerry6coding/Docs/blob/main/NLP_Twitter_disaster.ipynb\" target=\"_parent\"><img src=\"https://colab.research.google.com/assets/colab-badge.svg\" alt=\"Open In Colab\"/></a>"
      ]
    },
    {
      "cell_type": "code",
      "metadata": {
        "colab": {
          "base_uri": "https://localhost:8080/"
        },
        "id": "nakri_ul8kTO",
        "outputId": "5496b459-d7e5-4670-eaa5-47f14ae89d5f"
      },
      "source": [
        "from google.colab import drive\n",
        "drive.mount('/content/drive')"
      ],
      "execution_count": 23,
      "outputs": [
        {
          "output_type": "stream",
          "text": [
            "Drive already mounted at /content/drive; to attempt to forcibly remount, call drive.mount(\"/content/drive\", force_remount=True).\n"
          ],
          "name": "stdout"
        }
      ]
    },
    {
      "cell_type": "code",
      "metadata": {
        "id": "tYb5pLjV8wJ8"
      },
      "source": [
        "# We will use the official tokenization script created by the Google team\n",
        "!wget --quiet https://raw.githubusercontent.com/tensorflow/models/master/official/nlp/bert/tokenization.py"
      ],
      "execution_count": 2,
      "outputs": []
    },
    {
      "cell_type": "code",
      "metadata": {
        "id": "thbdH6Cx9NQj"
      },
      "source": [
        "# !pip3 install tensorflow_text>=2.0.0rc0"
      ],
      "execution_count": 3,
      "outputs": []
    },
    {
      "cell_type": "code",
      "metadata": {
        "colab": {
          "base_uri": "https://localhost:8080/"
        },
        "id": "HlaHyUsTX9PR",
        "outputId": "6029b269-85e3-49d7-8a96-d2d35c07e0a5"
      },
      "source": [
        "!pip install bert-tensorflow==1.0.1"
      ],
      "execution_count": 4,
      "outputs": [
        {
          "output_type": "stream",
          "text": [
            "Requirement already satisfied: bert-tensorflow==1.0.1 in /usr/local/lib/python3.7/dist-packages (1.0.1)\n",
            "Requirement already satisfied: six in /usr/local/lib/python3.7/dist-packages (from bert-tensorflow==1.0.1) (1.15.0)\n"
          ],
          "name": "stdout"
        }
      ]
    },
    {
      "cell_type": "code",
      "metadata": {
        "id": "RLWRjVGB87S9"
      },
      "source": [
        "import numpy as np\n",
        "import pandas as pd\n",
        "import tensorflow as tf\n",
        "tf.gfile = tf.io.gfile\n",
        "\n",
        "from tensorflow.keras.layers import Dense, Input\n",
        "from tensorflow.keras.optimizers import Adam\n",
        "from tensorflow.keras.models import Model\n",
        "from tensorflow.keras.callbacks import ModelCheckpoint\n",
        "import tensorflow_hub as hub\n",
        "import bert\n",
        "from bert import tokenization"
      ],
      "execution_count": 5,
      "outputs": []
    },
    {
      "cell_type": "code",
      "metadata": {
        "id": "j4HgrVhn885a"
      },
      "source": [
        "def bert_encode(texts, tokenizer, max_len=512):\n",
        "    all_tokens = []\n",
        "    all_masks = []\n",
        "    all_segments = []\n",
        "    \n",
        "    for text in texts:\n",
        "        text = tokenizer.tokenize(text)\n",
        "            \n",
        "        text = text[:max_len-2]\n",
        "        input_sequence = [\"[CLS]\"] + text + [\"[SEP]\"]\n",
        "        pad_len = max_len - len(input_sequence)\n",
        "        \n",
        "        tokens = tokenizer.convert_tokens_to_ids(input_sequence)\n",
        "        tokens += [0] * pad_len\n",
        "        pad_masks = [1] * len(input_sequence) + [0] * pad_len\n",
        "        segment_ids = [0] * max_len\n",
        "        \n",
        "        all_tokens.append(tokens)\n",
        "        all_masks.append(pad_masks)\n",
        "        all_segments.append(segment_ids)\n",
        "    \n",
        "    return np.array(all_tokens), np.array(all_masks), np.array(all_segments)"
      ],
      "execution_count": 6,
      "outputs": []
    },
    {
      "cell_type": "code",
      "metadata": {
        "id": "Eon43PSe-P_F"
      },
      "source": [
        "def build_model(bert_layer, max_len=512):\n",
        "    input_word_ids = Input(shape=(max_len,), dtype=tf.int32, name=\"input_word_ids\")\n",
        "    input_mask = Input(shape=(max_len,), dtype=tf.int32, name=\"input_mask\")\n",
        "    segment_ids = Input(shape=(max_len,), dtype=tf.int32, name=\"segment_ids\")\n",
        "\n",
        "    _, sequence_output = bert_layer([input_word_ids, input_mask, segment_ids])\n",
        "    clf_output = sequence_output[:, 0, :]\n",
        "    \n",
        "    net = tf.keras.layers.Dense(64, activation='relu')(clf_output)\n",
        "    net = tf.keras.layers.Dropout(0.5)(net)\n",
        "    net = tf.keras.layers.Dense(32, activation='relu')(net)\n",
        "    net = tf.keras.layers.Dropout(0.5)(net)\n",
        "#     out = tf.keras.layers.Dense(5, activation='softmax')(net)\n",
        "\n",
        "    out = Dense(1, activation='sigmoid')(clf_output)\n",
        "    \n",
        "    model = Model(inputs=[input_word_ids, input_mask, segment_ids], outputs=out)\n",
        "    model.compile(Adam(lr=1e-5), loss='binary_crossentropy', metrics=['accuracy'])\n",
        "    \n",
        "    return model"
      ],
      "execution_count": 7,
      "outputs": []
    },
    {
      "cell_type": "code",
      "metadata": {
        "colab": {
          "base_uri": "https://localhost:8080/"
        },
        "id": "Ghr8xPL1-Un5",
        "outputId": "98e7c7f7-da75-4261-8a15-1d9c84906305"
      },
      "source": [
        "%%time\n",
        "module_url = \"https://tfhub.dev/tensorflow/bert_en_uncased_L-24_H-1024_A-16/1\"\n",
        "bert_layer = hub.KerasLayer(module_url, trainable=True)"
      ],
      "execution_count": 8,
      "outputs": [
        {
          "output_type": "stream",
          "text": [
            "CPU times: user 10.3 s, sys: 1.93 s, total: 12.3 s\n",
            "Wall time: 12.4 s\n"
          ],
          "name": "stdout"
        }
      ]
    },
    {
      "cell_type": "code",
      "metadata": {
        "id": "Kk0XuYKs-WbK"
      },
      "source": [
        "train = pd.read_csv(\"/content/drive/MyDrive/ML_data/NLP Twitter disaster/train.csv\")\n",
        "test = pd.read_csv(\"/content/drive/MyDrive/ML_data/NLP Twitter disaster/test.csv\")\n",
        "submission = pd.read_csv(\"/content/drive/MyDrive/ML_data/NLP Twitter disaster/sample_submission.csv\")"
      ],
      "execution_count": 9,
      "outputs": []
    },
    {
      "cell_type": "code",
      "metadata": {
        "id": "rPutTkpJ-olT"
      },
      "source": [
        "vocab_file = bert_layer.resolved_object.vocab_file.asset_path.numpy()\n",
        "do_lower_case = bert_layer.resolved_object.do_lower_case.numpy()\n",
        "tokenizer = tokenization.FullTokenizer(vocab_file, do_lower_case)"
      ],
      "execution_count": 10,
      "outputs": []
    },
    {
      "cell_type": "code",
      "metadata": {
        "id": "vDyOHJFQ-sid"
      },
      "source": [
        "train_input = bert_encode(train.text.values, tokenizer, max_len=160)\n",
        "test_input = bert_encode(test.text.values, tokenizer, max_len=160)\n",
        "train_labels = train.target.values"
      ],
      "execution_count": 11,
      "outputs": []
    },
    {
      "cell_type": "code",
      "metadata": {
        "colab": {
          "base_uri": "https://localhost:8080/"
        },
        "id": "bYE2MGmOaC6h",
        "outputId": "a92b956f-553b-40a8-a9f6-ce0ce28b3f21"
      },
      "source": [
        "model = build_model(bert_layer, max_len=160)\n",
        "model.summary()"
      ],
      "execution_count": 12,
      "outputs": [
        {
          "output_type": "stream",
          "text": [
            "Model: \"model\"\n",
            "__________________________________________________________________________________________________\n",
            "Layer (type)                    Output Shape         Param #     Connected to                     \n",
            "==================================================================================================\n",
            "input_word_ids (InputLayer)     [(None, 160)]        0                                            \n",
            "__________________________________________________________________________________________________\n",
            "input_mask (InputLayer)         [(None, 160)]        0                                            \n",
            "__________________________________________________________________________________________________\n",
            "segment_ids (InputLayer)        [(None, 160)]        0                                            \n",
            "__________________________________________________________________________________________________\n",
            "keras_layer (KerasLayer)        [(None, 1024), (None 335141889   input_word_ids[0][0]             \n",
            "                                                                 input_mask[0][0]                 \n",
            "                                                                 segment_ids[0][0]                \n",
            "__________________________________________________________________________________________________\n",
            "tf.__operators__.getitem (Slici (None, 1024)         0           keras_layer[0][1]                \n",
            "__________________________________________________________________________________________________\n",
            "dense_2 (Dense)                 (None, 1)            1025        tf.__operators__.getitem[0][0]   \n",
            "==================================================================================================\n",
            "Total params: 335,142,914\n",
            "Trainable params: 335,142,913\n",
            "Non-trainable params: 1\n",
            "__________________________________________________________________________________________________\n"
          ],
          "name": "stdout"
        }
      ]
    },
    {
      "cell_type": "code",
      "metadata": {
        "colab": {
          "base_uri": "https://localhost:8080/",
          "height": 369
        },
        "id": "3PumUJh7aiA4",
        "outputId": "54d77fea-d2d3-454d-e9eb-dfbc121078eb"
      },
      "source": [
        "tf.keras.utils.plot_model(model)"
      ],
      "execution_count": 13,
      "outputs": [
        {
          "output_type": "execute_result",
          "data": {
            "image/png": "[encoded data removed]",
            "text/plain": [
              "<IPython.core.display.Image object>"
            ]
          },
          "metadata": {
            "tags": []
          },
          "execution_count": 13
        }
      ]
    },
    {
      "cell_type": "code",
      "metadata": {
        "colab": {
          "base_uri": "https://localhost:8080/"
        },
        "id": "_QEVACHbajEU",
        "outputId": "ce779f97-bfc5-4781-c26c-5d968e4970c8"
      },
      "source": [
        "from datetime import datetime\n",
        "import os\n",
        "SEED = 2\n",
        "from numpy.random import seed\n",
        "seed(SEED)\n",
        "EPOCHS = 5\n",
        "# import tensorflow as tf\n",
        "tf.random.set_seed(SEED)\n",
        "\n",
        "checkpoint_filepath_dir = \"/content/drive/MyDrive/ML_data/NLP Twitter disaster/saved_models\"\n",
        "checkpoint_filepath = os.path.join(checkpoint_filepath_dir, \"weights.h5\") # saved weights\n",
        "checkpoint = ModelCheckpoint(filepath=checkpoint_filepath, monitor='val_accuracy', mode='max', save_best_only=True)\n",
        "earlystopping = tf.keras.callbacks.EarlyStopping(monitor='val_accuracy', patience=3, verbose=1)\n",
        "\n",
        "ModelPath = os.path.join(checkpoint_filepath_dir, \"model2.h5\")\n",
        "model.save(ModelPath)\n",
        "\n",
        "# # Define the Keras TensorBoard callback.\n",
        "# proj_dir = \"/content/drive/MyDrive/ML_data/NLP_test/\"\n",
        "# LogDir = proj_dir + \"logs/BERT/\" + datetime.now().strftime(\"%Y%m%d-%H%M%S\")\n",
        "# tb_callback = tf.keras.callbacks.TensorBoard(LogDir, histogram_freq=1)\n",
        "SavedLogPath = os.path.join(checkpoint_filepath_dir, \"training.log\")\n",
        "csv_logger = tf.keras.callbacks.CSVLogger(SavedLogPath)\n",
        "\n",
        "train_history = model.fit(\n",
        "    train_input, train_labels,\n",
        "    validation_split=0.2,\n",
        "    epochs=EPOCHS,\n",
        "    callbacks=[checkpoint, earlystopping, csv_logger],\n",
        "    batch_size=12\n",
        ")"
      ],
      "execution_count": 30,
      "outputs": [
        {
          "output_type": "stream",
          "text": [
            "Epoch 1/5\n",
            "508/508 [==============================] - 226s 421ms/step - loss: 0.1391 - accuracy: 0.9506 - val_loss: 0.5499 - val_accuracy: 0.8267\n",
            "Epoch 2/5\n",
            "508/508 [==============================] - 212s 417ms/step - loss: 0.0847 - accuracy: 0.9688 - val_loss: 0.6452 - val_accuracy: 0.8221\n",
            "Epoch 3/5\n",
            "508/508 [==============================] - 212s 417ms/step - loss: 0.0635 - accuracy: 0.9721 - val_loss: 0.8428 - val_accuracy: 0.8168\n",
            "Epoch 4/5\n",
            "508/508 [==============================] - 212s 417ms/step - loss: 0.0521 - accuracy: 0.9800 - val_loss: 0.8556 - val_accuracy: 0.8352\n",
            "Epoch 5/5\n",
            "508/508 [==============================] - 212s 417ms/step - loss: 0.0484 - accuracy: 0.9818 - val_loss: 0.7144 - val_accuracy: 0.8299\n"
          ],
          "name": "stdout"
        }
      ]
    },
    {
      "cell_type": "code",
      "metadata": {
        "colab": {
          "base_uri": "https://localhost:8080/",
          "height": 202
        },
        "id": "mK1jfrDkEfvr",
        "outputId": "06ba1447-b7ed-42fc-e25e-651c8fb11e73"
      },
      "source": [
        "import pandas as pd\n",
        "log_data = pd.read_csv(SavedLogPath, sep=',', engine='python')\n",
        "log_data"
      ],
      "execution_count": 31,
      "outputs": [
        {
          "output_type": "execute_result",
          "data": {
            "text/html": [
              "<div>\n",
              "<style scoped>\n",
              "    .dataframe tbody tr th:only-of-type {\n",
              "        vertical-align: middle;\n",
              "    }\n",
              "\n",
              "    .dataframe tbody tr th {\n",
              "        vertical-align: top;\n",
              "    }\n",
              "\n",
              "    .dataframe thead th {\n",
              "        text-align: right;\n",
              "    }\n",
              "</style>\n",
              "<table border=\"1\" class=\"dataframe\">\n",
              "  <thead>\n",
              "    <tr style=\"text-align: right;\">\n",
              "      <th></th>\n",
              "      <th>epoch</th>\n",
              "      <th>accuracy</th>\n",
              "      <th>loss</th>\n",
              "      <th>val_accuracy</th>\n",
              "      <th>val_loss</th>\n",
              "    </tr>\n",
              "  </thead>\n",
              "  <tbody>\n",
              "    <tr>\n",
              "      <th>0</th>\n",
              "      <td>0</td>\n",
              "      <td>0.950575</td>\n",
              "      <td>0.139088</td>\n",
              "      <td>0.826658</td>\n",
              "      <td>0.549913</td>\n",
              "    </tr>\n",
              "    <tr>\n",
              "      <th>1</th>\n",
              "      <td>1</td>\n",
              "      <td>0.968801</td>\n",
              "      <td>0.084685</td>\n",
              "      <td>0.822062</td>\n",
              "      <td>0.645169</td>\n",
              "    </tr>\n",
              "    <tr>\n",
              "      <th>2</th>\n",
              "      <td>2</td>\n",
              "      <td>0.972085</td>\n",
              "      <td>0.063491</td>\n",
              "      <td>0.816809</td>\n",
              "      <td>0.842819</td>\n",
              "    </tr>\n",
              "    <tr>\n",
              "      <th>3</th>\n",
              "      <td>3</td>\n",
              "      <td>0.979967</td>\n",
              "      <td>0.052057</td>\n",
              "      <td>0.835194</td>\n",
              "      <td>0.855570</td>\n",
              "    </tr>\n",
              "    <tr>\n",
              "      <th>4</th>\n",
              "      <td>4</td>\n",
              "      <td>0.981773</td>\n",
              "      <td>0.048357</td>\n",
              "      <td>0.829941</td>\n",
              "      <td>0.714403</td>\n",
              "    </tr>\n",
              "  </tbody>\n",
              "</table>\n",
              "</div>"
            ],
            "text/plain": [
              "   epoch  accuracy      loss  val_accuracy  val_loss\n",
              "0      0  0.950575  0.139088      0.826658  0.549913\n",
              "1      1  0.968801  0.084685      0.822062  0.645169\n",
              "2      2  0.972085  0.063491      0.816809  0.842819\n",
              "3      3  0.979967  0.052057      0.835194  0.855570\n",
              "4      4  0.981773  0.048357      0.829941  0.714403"
            ]
          },
          "metadata": {
            "tags": []
          },
          "execution_count": 31
        }
      ]
    },
    {
      "cell_type": "code",
      "metadata": {
        "colab": {
          "base_uri": "https://localhost:8080/",
          "height": 297
        },
        "id": "AH0TpmcSEq5A",
        "outputId": "77826516-528a-4a00-b712-a9114cd24e1b"
      },
      "source": [
        "import matplotlib.pyplot as plt\n",
        "\n",
        "# visualizing losses and accuracy\n",
        "train_loss = log_data['loss']\n",
        "val_loss   = log_data['val_loss']\n",
        "train_acc  = log_data['accuracy']\n",
        "val_acc    = log_data['val_accuracy']\n",
        "xc         = range(5)\n",
        "\n",
        "plt.figure()\n",
        "plt.plot(xc, train_acc, label = 'training')\n",
        "plt.plot(xc, val_acc, label = 'validation')\n",
        "plt.legend(loc=\"upper left\")\n",
        "plt.ylabel('Accuracy')\n",
        "plt.xlabel('No. epoch')"
      ],
      "execution_count": 33,
      "outputs": [
        {
          "output_type": "execute_result",
          "data": {
            "text/plain": [
              "Text(0.5, 0, 'No. epoch')"
            ]
          },
          "metadata": {
            "tags": []
          },
          "execution_count": 33
        },
        {
          "output_type": "display_data",
          "data": {
            "image/png": "[encoded data removed]",
            "text/plain": [
              "<Figure size 432x288 with 1 Axes>"
            ]
          },
          "metadata": {
            "tags": [],
            "needs_background": "light"
          }
        }
      ]
    },
    {
      "cell_type": "code",
      "metadata": {
        "id": "ctdkVrnnanod",
        "colab": {
          "base_uri": "https://localhost:8080/"
        },
        "outputId": "7e53c579-594b-4c4a-8ad1-67b8f85ce704"
      },
      "source": [
        "# tf.compat.v1.compat\n",
        "# # new_model = tf.keras.models.load_model(ModelPath)\n",
        "# saved_path = '/content/drive/MyDrive/ML_data/NLP Twitter disaster/saved_models/model2.h5'\n",
        "# new_model = tf.keras.models.load_model(saved_path,custom_objects={'KerasLayer':hub.KerasLayer})\n",
        "\n",
        "new_model = build_model(bert_layer, max_len=160)\n",
        "new_model.summary()\n",
        "new_model.load_weights(checkpoint_filepath)\n",
        "# model.load_weights('model2.h5')\n",
        "test_pred = new_model.predict(test_input)"
      ],
      "execution_count": 34,
      "outputs": [
        {
          "output_type": "stream",
          "text": [
            "Model: \"model_2\"\n",
            "__________________________________________________________________________________________________\n",
            "Layer (type)                    Output Shape         Param #     Connected to                     \n",
            "==================================================================================================\n",
            "input_word_ids (InputLayer)     [(None, 160)]        0                                            \n",
            "__________________________________________________________________________________________________\n",
            "input_mask (InputLayer)         [(None, 160)]        0                                            \n",
            "__________________________________________________________________________________________________\n",
            "segment_ids (InputLayer)        [(None, 160)]        0                                            \n",
            "__________________________________________________________________________________________________\n",
            "keras_layer (KerasLayer)        [(None, 1024), (None 335141889   input_word_ids[0][0]             \n",
            "                                                                 input_mask[0][0]                 \n",
            "                                                                 segment_ids[0][0]                \n",
            "__________________________________________________________________________________________________\n",
            "tf.__operators__.getitem_2 (Sli (None, 1024)         0           keras_layer[2][1]                \n",
            "__________________________________________________________________________________________________\n",
            "dense_8 (Dense)                 (None, 1)            1025        tf.__operators__.getitem_2[0][0] \n",
            "==================================================================================================\n",
            "Total params: 335,142,914\n",
            "Trainable params: 335,142,913\n",
            "Non-trainable params: 1\n",
            "__________________________________________________________________________________________________\n"
          ],
          "name": "stdout"
        }
      ]
    },
    {
      "cell_type": "code",
      "metadata": {
        "colab": {
          "base_uri": "https://localhost:8080/"
        },
        "id": "drKEUUF-Z_0r",
        "outputId": "71b233cb-81da-4292-a49c-8e3f08882155"
      },
      "source": [
        "test_pred"
      ],
      "execution_count": 35,
      "outputs": [
        {
          "output_type": "execute_result",
          "data": {
            "text/plain": [
              "array([[0.11281144],\n",
              "       [0.99999034],\n",
              "       [0.9999778 ],\n",
              "       ...,\n",
              "       [0.9999604 ],\n",
              "       [0.45565447],\n",
              "       [0.9892469 ]], dtype=float32)"
            ]
          },
          "metadata": {
            "tags": []
          },
          "execution_count": 35
        }
      ]
    },
    {
      "cell_type": "code",
      "metadata": {
        "id": "0c4iKI_Wao37"
      },
      "source": [
        "# submission['target'] = test_pred.round().astype(int)\n",
        "# submission.to_csv('submission.csv', index=False)"
      ],
      "execution_count": null,
      "outputs": []
    },
    {
      "cell_type": "code",
      "metadata": {
        "id": "R-JZPv4gas3m"
      },
      "source": [
        "# while True: pass"
      ],
      "execution_count": null,
      "outputs": []
    },
    {
      "cell_type": "code",
      "metadata": {
        "colab": {
          "base_uri": "https://localhost:8080/"
        },
        "id": "igqppGMNcl0x",
        "outputId": "eb0acbf0-689a-4771-ab19-ad6819651507"
      },
      "source": [
        "# train_input = bert_encode(train.text.values, tokenizer, max_len=160)\n",
        "# test_input = bert_encode(test.text.values, tokenizer, max_len=160)\n",
        "# train_labels = train.target.values\n",
        "train_input"
      ],
      "execution_count": 37,
      "outputs": [
        {
          "output_type": "execute_result",
          "data": {
            "text/plain": [
              "(array([[  101,  2256, 15616, ...,     0,     0,     0],\n",
              "        [  101,  3224,  2543, ...,     0,     0,     0],\n",
              "        [  101,  2035,  3901, ...,     0,     0,     0],\n",
              "        ...,\n",
              "        [  101, 23290,  1012, ...,     0,     0,     0],\n",
              "        [  101,  2610, 11538, ...,     0,     0,     0],\n",
              "        [  101,  1996,  6745, ...,     0,     0,     0]]),\n",
              " array([[1, 1, 1, ..., 0, 0, 0],\n",
              "        [1, 1, 1, ..., 0, 0, 0],\n",
              "        [1, 1, 1, ..., 0, 0, 0],\n",
              "        ...,\n",
              "        [1, 1, 1, ..., 0, 0, 0],\n",
              "        [1, 1, 1, ..., 0, 0, 0],\n",
              "        [1, 1, 1, ..., 0, 0, 0]]),\n",
              " array([[0, 0, 0, ..., 0, 0, 0],\n",
              "        [0, 0, 0, ..., 0, 0, 0],\n",
              "        [0, 0, 0, ..., 0, 0, 0],\n",
              "        ...,\n",
              "        [0, 0, 0, ..., 0, 0, 0],\n",
              "        [0, 0, 0, ..., 0, 0, 0],\n",
              "        [0, 0, 0, ..., 0, 0, 0]]))"
            ]
          },
          "metadata": {
            "tags": []
          },
          "execution_count": 37
        }
      ]
    },
    {
      "cell_type": "code",
      "metadata": {
        "id": "ueSzC7fldZzM"
      },
      "source": [
        "train_prob = new_model.predict(train_input)\n",
        "def get_preds(threshold, probabilities):\n",
        "    return [1 if prob > threshold else 0 for prob in probabilities]\n",
        "\n"
      ],
      "execution_count": 39,
      "outputs": []
    },
    {
      "cell_type": "code",
      "metadata": {
        "colab": {
          "base_uri": "https://localhost:8080/",
          "height": 279
        },
        "id": "EZrTVjzMdTso",
        "outputId": "6f950d00-6043-41ca-e70c-ca3d3c8cbb29"
      },
      "source": [
        "from sklearn.metrics import roc_auc_score\n",
        "from sklearn.metrics import confusion_matrix\n",
        "import seaborn as sns\n",
        "\n",
        "roc_values = []\n",
        "for thresh in np.linspace(0, 1, 100):\n",
        "    preds = get_preds(thresh, train_prob)\n",
        "    tn, fp, fn, tp = confusion_matrix(train_labels, preds).ravel()\n",
        "    tpr = tp/(tp+fn)\n",
        "    fpr = fp/(fp+tn)\n",
        "    roc_values.append([tpr, fpr])\n",
        "\n",
        "def show_confusion_matrix(confusion_matrix):\n",
        "  hmap = sns.heatmap(confusion_matrix, annot=True, fmt=\"d\", cmap=\"Blues\")\n",
        "  hmap.yaxis.set_ticklabels(hmap.yaxis.get_ticklabels(), rotation=0, ha='right')\n",
        "  hmap.xaxis.set_ticklabels(hmap.xaxis.get_ticklabels(), rotation=0, ha='right')\n",
        "  plt.ylabel('Ground Truth')\n",
        "  plt.xlabel('Prediction');\n",
        "\n",
        "y_pred_cm = train_prob.round(0)\n",
        "cm = confusion_matrix(train_labels, y_pred_cm)\n",
        "df_cm = pd.DataFrame(cm)\n",
        "show_confusion_matrix(df_cm)\n",
        "\n"
      ],
      "execution_count": 46,
      "outputs": [
        {
          "output_type": "display_data",
          "data": {
            "image/png": "[encoded data removed]",
            "text/plain": [
              "<Figure size 432x288 with 2 Axes>"
            ]
          },
          "metadata": {
            "tags": [],
            "needs_background": "light"
          }
        }
      ]
    },
    {
      "cell_type": "code",
      "metadata": {
        "colab": {
          "base_uri": "https://localhost:8080/",
          "height": 467
        },
        "id": "0zg5KsEycwqg",
        "outputId": "fbf61d2d-b23d-4ad1-aaff-f9ac5bb5b44d"
      },
      "source": [
        "tpr_values, fpr_values = zip(*roc_values)\n",
        "fig, ax = plt.subplots(figsize=(10,7))\n",
        "ax.plot(fpr_values, label='ROC curve (area = %0.2f)' % roc_auc[i], c = color_list[i])\n",
        "ax.plot(np.linspace(0, 1, 100),\n",
        "         np.linspace(0, 1, 100),\n",
        "         label='baseline',\n",
        "         linestyle='--')\n",
        "plt.title('Receiver Operating Characteristic Curve', fontsize=18)\n",
        "plt.ylabel('TPR', fontsize=16)\n",
        "plt.xlabel('FPR', fontsize=16)\n",
        "plt.legend(fontsize=12);"
      ],
      "execution_count": 42,
      "outputs": [
        {
          "output_type": "display_data",
          "data": {
            "image/png": "[encoded data removed]",
            "text/plain": [
              "<Figure size 720x504 with 1 Axes>"
            ]
          },
          "metadata": {
            "tags": [],
            "needs_background": "light"
          }
        }
      ]
    },
    {
      "cell_type": "code",
      "metadata": {
        "colab": {
          "base_uri": "https://localhost:8080/",
          "height": 295
        },
        "id": "pa6F7767kCAj",
        "outputId": "cd080006-0122-4f80-e6f8-15dee82ec67d"
      },
      "source": [
        "from sklearn.metrics import roc_curve, auc\n",
        "n_classes = 1\n",
        "# fpr = []\n",
        "# tpr = []\n",
        "# roc_auc = []\n",
        "fpr, tpr, thresholds = roc_curve(train_labels, train_prob)\n",
        "roc_auc = auc(fpr, tpr)\n",
        "\n",
        "# Plot of a ROC curve for a specific class\n",
        "plt.figure()\n",
        "color_list = [\"r\", \"g\", \"b\"]\n",
        "\n",
        "plt.plot(fpr, tpr, label='ROC curve (area = %0.2f)' % roc_auc)\n",
        "plt.plot([0, 1], [0, 1], 'r--')\n",
        "plt.xlim([0.0, 1.0])\n",
        "plt.ylim([0.0, 1.05])\n",
        "plt.xlabel('False Positive Rate')\n",
        "plt.ylabel('True Positive Rate')\n",
        "plt.title('Receiver operating characteristic example')\n",
        "plt.legend(loc=\"lower right\")\n",
        "\n",
        "plt.show()   "
      ],
      "execution_count": 51,
      "outputs": [
        {
          "output_type": "display_data",
          "data": {
            "image/png": "[encoded data removed]",
            "text/plain": [
              "<Figure size 432x288 with 1 Axes>"
            ]
          },
          "metadata": {
            "tags": [],
            "needs_background": "light"
          }
        }
      ]
    }
  ]
}